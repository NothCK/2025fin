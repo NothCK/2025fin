{
 "cells": [
  {
   "cell_type": "code",
   "execution_count": 7,
   "id": "59a2a43d",
   "metadata": {},
   "outputs": [],
   "source": [
    "def fibonacci(n):\n",
    "    if n<=2:\n",
    "        print(\"Please enter a number which is greater than 2!\")\n",
    "    else:\n",
    "        fib = [1,1]\n",
    "        ratio = [1]\n",
    "        for i in range(2,n):\n",
    "            fib_new = fib[i-1] + fib[i-2]\n",
    "            fib.append (fib_new)\n",
    "            ratio_new = fib[i-1] / fib_new\n",
    "            ratio.append(ratio_new)\n",
    "        print(fib)\n",
    "        print(ratio)"
   ]
  },
  {
   "cell_type": "code",
   "execution_count": 8,
   "id": "106d5535",
   "metadata": {},
   "outputs": [
    {
     "name": "stdout",
     "output_type": "stream",
     "text": [
      "Please enter a number which is greater than 2!\n"
     ]
    }
   ],
   "source": [
    "fibonacci(1)"
   ]
  },
  {
   "cell_type": "code",
   "execution_count": 9,
   "id": "4055c04a",
   "metadata": {},
   "outputs": [
    {
     "name": "stdout",
     "output_type": "stream",
     "text": [
      "[1, 1, 2, 3, 5, 8]\n",
      "[1, 0.5, 0.6666666666666666, 0.6, 0.625]\n"
     ]
    }
   ],
   "source": [
    "fibonacci(6)"
   ]
  },
  {
   "cell_type": "code",
   "execution_count": 10,
   "id": "ecc44b0b",
   "metadata": {},
   "outputs": [
    {
     "name": "stdout",
     "output_type": "stream",
     "text": [
      "[1, 1, 2, 3, 5, 8, 13, 21, 34, 55]\n",
      "[1, 0.5, 0.6666666666666666, 0.6, 0.625, 0.6153846153846154, 0.6190476190476191, 0.6176470588235294, 0.6181818181818182]\n"
     ]
    }
   ],
   "source": [
    "fibonacci(10)"
   ]
  },
  {
   "cell_type": "code",
   "execution_count": null,
   "id": "f1879473",
   "metadata": {},
   "outputs": [],
   "source": []
  }
 ],
 "metadata": {
  "kernelspec": {
   "display_name": "talib_env",
   "language": "python",
   "name": "python3"
  },
  "language_info": {
   "codemirror_mode": {
    "name": "ipython",
    "version": 3
   },
   "file_extension": ".py",
   "mimetype": "text/x-python",
   "name": "python",
   "nbconvert_exporter": "python",
   "pygments_lexer": "ipython3",
   "version": "3.8.20"
  }
 },
 "nbformat": 4,
 "nbformat_minor": 5
}
